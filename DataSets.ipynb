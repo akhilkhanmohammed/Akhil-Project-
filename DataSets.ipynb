{
 "cells": [
  {
   "cell_type": "code",
   "execution_count": 12,
   "id": "dc79247d",
   "metadata": {},
   "outputs": [],
   "source": [
    "from tabulate import tabulate"
   ]
  },
  {
   "cell_type": "code",
   "execution_count": 13,
   "id": "31b5b33b",
   "metadata": {},
   "outputs": [],
   "source": [
    "Customer = [['Customer Name', 'MD Akhil Khan'], [\n",
    "    'Father Name', 'MD Aleem Khan'], ['Customer Profile', 'Business Man'], ['Loan Account No.', '98989478983'], ['Zone Name', 'Kothagudem'], ['Region Name', 'Telangana'], ['Area Name', 'Ramanji Colony'], ['Branch Name', 'Kothagudem'], ['PinCode', '507101'], ['LandMark', 'Near PostOffice'], ['Address1', '4-4-155, Ramanji Colony, Kothagudem'], ['Address2', 'Telangana 507101'], ['Office Pin Code', '507101'], ['Office Land Mark', 'Near PostOffice'], ['Office Address1', '4-4-155, Ramanji Colony, Kothagudem'], ['Office Address2', 'Telangana 507101'], ['Agreement Date', '02-09-2022'], ['Loan Registration Number', '78787474747'], ['Tenor', 'N Arunkumar'], ['Advance EMI', '5,500rs'], ['MOB', '10,000rs']]"
   ]
  },
  {
   "cell_type": "code",
   "execution_count": 14,
   "id": "5bea5237",
   "metadata": {
    "scrolled": true
   },
   "outputs": [
    {
     "name": "stdout",
     "output_type": "stream",
     "text": [
      "------------------------  -----------------------------------\n",
      "Customer Name             MD Akhil Khan\n",
      "Father Name               MD Aleem Khan\n",
      "Customer Profile          Business Man\n",
      "Loan Account No.          98989478983\n",
      "Zone Name                 Kothagudem\n",
      "Region Name               Telangana\n",
      "Area Name                 Ramanji Colony\n",
      "Branch Name               Kothagudem\n",
      "PinCode                   507101\n",
      "LandMark                  Near PostOffice\n",
      "Address1                  4-4-155, Ramanji Colony, Kothagudem\n",
      "Address2                  Telangana 507101\n",
      "Office Pin Code           507101\n",
      "Office Land Mark          Near PostOffice\n",
      "Office Address1           4-4-155, Ramanji Colony, Kothagudem\n",
      "Office Address2           Telangana 507101\n",
      "Agreement Date            02-09-2022\n",
      "Loan Registration Number  78787474747\n",
      "Tenor                     N Arunkumar\n",
      "Advance EMI               5,500rs\n",
      "MOB                       10,000rs\n",
      "------------------------  -----------------------------------\n"
     ]
    }
   ],
   "source": [
    "print(tabulate(Customer))"
   ]
  },
  {
   "cell_type": "code",
   "execution_count": 16,
   "id": "ee07d818",
   "metadata": {},
   "outputs": [
    {
     "name": "stdout",
     "output_type": "stream",
     "text": [
      "Customer Name             MD Akhil Khan\n",
      "------------------------  -----------------------------------\n",
      "Father Name               MD Aleem Khan\n",
      "Customer Profile          Business Man\n",
      "Loan Account No.          98989478983\n",
      "Zone Name                 Kothagudem\n",
      "Region Name               Telangana\n",
      "Area Name                 Ramanji Colony\n",
      "Branch Name               Kothagudem\n",
      "PinCode                   507101\n",
      "LandMark                  Near PostOffice\n",
      "Address1                  4-4-155, Ramanji Colony, Kothagudem\n",
      "Address2                  Telangana 507101\n",
      "Office Pin Code           507101\n",
      "Office Land Mark          Near PostOffice\n",
      "Office Address1           4-4-155, Ramanji Colony, Kothagudem\n",
      "Office Address2           Telangana 507101\n",
      "Agreement Date            02-09-2022\n",
      "Loan Registration Number  78787474747\n",
      "Tenor                     N Arunkumar\n",
      "Advance EMI               5,500rs\n",
      "MOB                       10,000rs\n"
     ]
    }
   ],
   "source": [
    "print(tabulate(Customer, headers='firstrow'))\n"
   ]
  },
  {
   "cell_type": "code",
   "execution_count": 17,
   "id": "a3ee6124",
   "metadata": {},
   "outputs": [
    {
     "ename": "NameError",
     "evalue": "name 'table' is not defined",
     "output_type": "error",
     "traceback": [
      "\u001b[1;31m---------------------------------------------------------------------------\u001b[0m",
      "\u001b[1;31mNameError\u001b[0m                                 Traceback (most recent call last)",
      "\u001b[1;32m~\\AppData\\Local\\Temp/ipykernel_16928/686179486.py\u001b[0m in \u001b[0;36m<module>\u001b[1;34m\u001b[0m\n\u001b[1;32m----> 1\u001b[1;33m \u001b[0mprint\u001b[0m\u001b[1;33m(\u001b[0m\u001b[0mtabulate\u001b[0m\u001b[1;33m(\u001b[0m\u001b[0mtable\u001b[0m\u001b[1;33m,\u001b[0m \u001b[0mheaders\u001b[0m\u001b[1;33m=\u001b[0m\u001b[1;34m'firstrow'\u001b[0m\u001b[1;33m,\u001b[0m \u001b[0mtablefmt\u001b[0m\u001b[1;33m=\u001b[0m\u001b[1;34m'grid'\u001b[0m\u001b[1;33m)\u001b[0m\u001b[1;33m)\u001b[0m\u001b[1;33m\u001b[0m\u001b[1;33m\u001b[0m\u001b[0m\n\u001b[0m",
      "\u001b[1;31mNameError\u001b[0m: name 'table' is not defined"
     ]
    }
   ],
   "source": [
    "print(tabulate(Customer, headers='firstrow', tablefmt='grid'))"
   ]
  },
  {
   "cell_type": "code",
   "execution_count": 6,
   "id": "3dd34f9e",
   "metadata": {},
   "outputs": [
    {
     "name": "stdout",
     "output_type": "stream",
     "text": [
      "╒══════════════╤═════════════╤═══════╕\n",
      "│ First Name   │ Last Name   │   Age │\n",
      "╞══════════════╪═════════════╪═══════╡\n",
      "│ John         │ Smith       │    39 │\n",
      "├──────────────┼─────────────┼───────┤\n",
      "│ Mary         │ Jane        │    25 │\n",
      "├──────────────┼─────────────┼───────┤\n",
      "│ Jennifer     │ Doe         │    28 │\n",
      "╘══════════════╧═════════════╧═══════╛\n"
     ]
    }
   ],
   "source": [
    "print(tabulate(table, headers='firstrow', tablefmt='fancy_grid'))\n"
   ]
  },
  {
   "cell_type": "code",
   "execution_count": null,
   "id": "4a9e11c2",
   "metadata": {},
   "outputs": [],
   "source": []
  }
 ],
 "metadata": {
  "kernelspec": {
   "display_name": "Python 3 (ipykernel)",
   "language": "python",
   "name": "python3"
  },
  "language_info": {
   "codemirror_mode": {
    "name": "ipython",
    "version": 3
   },
   "file_extension": ".py",
   "mimetype": "text/x-python",
   "name": "python",
   "nbconvert_exporter": "python",
   "pygments_lexer": "ipython3",
   "version": "3.9.6"
  }
 },
 "nbformat": 4,
 "nbformat_minor": 5
}
