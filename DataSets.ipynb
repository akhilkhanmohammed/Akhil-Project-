{
 "cells": [
  {
   "cell_type": "code",
   "execution_count": 39,
   "id": "dc79247d",
   "metadata": {},
   "outputs": [],
   "source": [
    "from tabulate import tabulate"
   ]
  },
  {
   "cell_type": "code",
   "execution_count": 40,
   "id": "31b5b33b",
   "metadata": {},
   "outputs": [],
   "source": [
    "Customer = [['Customer','Details'],['Customer Name', 'MD Akhil Khan'], [\n",
    "    'Father Name', 'MD Aleem Khan'], ['Customer Profile', 'Business Man'], ['Loan Account No.', '98989478983'] ]"
   ]
  },
  {
   "cell_type": "code",
   "execution_count": 41,
   "id": "3dd34f9e",
   "metadata": {},
   "outputs": [
    {
     "name": "stdout",
     "output_type": "stream",
     "text": [
      "╒══════════════════╤═══════════════╕\n",
      "│ Customer         │ Details       │\n",
      "╞══════════════════╪═══════════════╡\n",
      "│ Customer Name    │ MD Akhil Khan │\n",
      "├──────────────────┼───────────────┤\n",
      "│ Father Name      │ MD Aleem Khan │\n",
      "├──────────────────┼───────────────┤\n",
      "│ Customer Profile │ Business Man  │\n",
      "├──────────────────┼───────────────┤\n",
      "│ Loan Account No. │ 98989478983   │\n",
      "╘══════════════════╧═══════════════╛\n"
     ]
    }
   ],
   "source": [
    "print(tabulate(Customer, headers='firstrow', tablefmt='fancy_grid'))\n"
   ]
  },
  {
   "cell_type": "code",
   "execution_count": 42,
   "id": "320bca15",
   "metadata": {},
   "outputs": [],
   "source": [
    "Branch_Data = [['Zone Name', 'Kothagudem'], ['Region Name', 'Telangana'], ['Area Name', 'Ramanji Colony'], ['Branch Name', 'Kothagudem']]"
   ]
  },
  {
   "cell_type": "code",
   "execution_count": 43,
   "id": "d346ae4c",
   "metadata": {},
   "outputs": [
    {
     "name": "stdout",
     "output_type": "stream",
     "text": [
      "╒═════════════╤════════════════╕\n",
      "│ Zone Name   │ Kothagudem     │\n",
      "╞═════════════╪════════════════╡\n",
      "│ Region Name │ Telangana      │\n",
      "├─────────────┼────────────────┤\n",
      "│ Area Name   │ Ramanji Colony │\n",
      "├─────────────┼────────────────┤\n",
      "│ Branch Name │ Kothagudem     │\n",
      "╘═════════════╧════════════════╛\n"
     ]
    }
   ],
   "source": [
    "print(tabulate(Branch_Data, headers='firstrow', tablefmt='fancy_grid'))"
   ]
  },
  {
   "cell_type": "code",
   "execution_count": 44,
   "id": "f504d587",
   "metadata": {},
   "outputs": [],
   "source": [
    "Customer_Home_Address_Data = [['PinCode', '507101'], ['LandMark', 'Near PostOffice'], ['Address1', '4-4-155, Ramanji Colony, Kothagudem'], ['Address2', 'Telangana 507101']]"
   ]
  },
  {
   "cell_type": "code",
   "execution_count": 45,
   "id": "cb2bba67",
   "metadata": {},
   "outputs": [
    {
     "name": "stdout",
     "output_type": "stream",
     "text": [
      "╒═══════════╤═════════════════════════════════════╕\n",
      "│ PinCode   │ 507101                              │\n",
      "╞═══════════╪═════════════════════════════════════╡\n",
      "│ LandMark  │ Near PostOffice                     │\n",
      "├───────────┼─────────────────────────────────────┤\n",
      "│ Address1  │ 4-4-155, Ramanji Colony, Kothagudem │\n",
      "├───────────┼─────────────────────────────────────┤\n",
      "│ Address2  │ Telangana 507101                    │\n",
      "╘═══════════╧═════════════════════════════════════╛\n"
     ]
    }
   ],
   "source": [
    "print(tabulate(Customer_Home_Address_Data, headers='firstrow', tablefmt='fancy_grid'))"
   ]
  },
  {
   "cell_type": "code",
   "execution_count": 46,
   "id": "7933fc01",
   "metadata": {},
   "outputs": [],
   "source": [
    "Loan_Amount_Data = [ ['Office Pin Code', '507101'], ['Office Land Mark', 'Near PostOffice'], ['Office Address1', '4-4-155, Ramanji Colony, Kothagudem'], ['Office Address2', 'Telangana 507101'], ['Agreement Date', '02-09-2022'], ['Loan Registration Number', '78787474747'], ['Tenor', 'N Arunkumar'], ['Advance EMI', '5,500rs'], ['MOB', '10,000rs']]"
   ]
  },
  {
   "cell_type": "code",
   "execution_count": 47,
   "id": "fee91be0",
   "metadata": {},
   "outputs": [
    {
     "name": "stdout",
     "output_type": "stream",
     "text": [
      "╒══════════════════════════╤═════════════════════════════════════╕\n",
      "│ Office Pin Code          │ 507101                              │\n",
      "╞══════════════════════════╪═════════════════════════════════════╡\n",
      "│ Office Land Mark         │ Near PostOffice                     │\n",
      "├──────────────────────────┼─────────────────────────────────────┤\n",
      "│ Office Address1          │ 4-4-155, Ramanji Colony, Kothagudem │\n",
      "├──────────────────────────┼─────────────────────────────────────┤\n",
      "│ Office Address2          │ Telangana 507101                    │\n",
      "├──────────────────────────┼─────────────────────────────────────┤\n",
      "│ Agreement Date           │ 02-09-2022                          │\n",
      "├──────────────────────────┼─────────────────────────────────────┤\n",
      "│ Loan Registration Number │ 78787474747                         │\n",
      "├──────────────────────────┼─────────────────────────────────────┤\n",
      "│ Tenor                    │ N Arunkumar                         │\n",
      "├──────────────────────────┼─────────────────────────────────────┤\n",
      "│ Advance EMI              │ 5,500rs                             │\n",
      "├──────────────────────────┼─────────────────────────────────────┤\n",
      "│ MOB                      │ 10,000rs                            │\n",
      "╘══════════════════════════╧═════════════════════════════════════╛\n"
     ]
    }
   ],
   "source": [
    "print(tabulate(Loan_Amount_Data, headers='firstrow', tablefmt='fancy_grid'))"
   ]
  },
  {
   "cell_type": "code",
   "execution_count": null,
   "id": "bf1dfb36",
   "metadata": {},
   "outputs": [],
   "source": []
  }
 ],
 "metadata": {
  "kernelspec": {
   "display_name": "Python 3 (ipykernel)",
   "language": "python",
   "name": "python3"
  },
  "language_info": {
   "codemirror_mode": {
    "name": "ipython",
    "version": 3
   },
   "file_extension": ".py",
   "mimetype": "text/x-python",
   "name": "python",
   "nbconvert_exporter": "python",
   "pygments_lexer": "ipython3",
   "version": "3.9.6"
  }
 },
 "nbformat": 4,
 "nbformat_minor": 5
}
